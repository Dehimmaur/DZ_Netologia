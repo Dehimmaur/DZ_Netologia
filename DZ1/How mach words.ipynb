{
 "cells": [
  {
   "cell_type": "code",
   "execution_count": 25,
   "id": "e8802768",
   "metadata": {},
   "outputs": [
    {
     "name": "stdout",
     "output_type": "stream",
     "text": [
      "['р', 'о', 'с', 'т', 'е', 'л', 'е', 'к', 'о', 'м']\n",
      "ер\n",
      "ом\n",
      "кол\n",
      "ком\n",
      "кот\n",
      "лек\n",
      "лес\n",
      "мел\n",
      "мот\n",
      "орс\n",
      "орт\n",
      "ост\n",
      "рол\n",
      "ром\n",
      "сет\n",
      "сок\n",
      "сом\n",
      "сор\n",
      "тол\n",
      "том\n",
      "клот\n",
      "корм\n",
      "корт\n",
      "крем\n",
      "крот\n",
      "лето\n",
      "лоск\n",
      "море\n",
      "морс\n",
      "мост\n",
      "осек\n",
      "рост\n",
      "село\n",
      "скол\n",
      "скот\n",
      "слом\n",
      "сорт\n",
      "срок\n",
      "стек\n",
      "сток\n",
      "тело\n",
      "торк\n",
      "торс\n",
      "трек\n",
      "трок\n",
      "трос\n",
      "колет\n",
      "креол\n",
      "крест\n",
      "леток\n",
      "мелок\n",
      "мелос\n",
      "место\n",
      "метол\n",
      "омлет\n",
      "отсек\n",
      "скорм\n",
      "тесло\n",
      "треск\n",
      "корсет\n",
      "кресло\n",
      "лектор\n",
      "стекло\n",
      "стокер\n",
      "термос\n",
      "стрелок\n",
      "\n"
     ]
    }
   ],
   "source": [
    "import re\n",
    "counter = ['']\n",
    "word = 'ростелеком'\n",
    "w = [char for char in word]\n",
    "print(w)\n",
    "count = 0\n",
    "\n",
    "with open('russian-nouns.txt', 'r', encoding = 'utf-8') as f:\n",
    "    for line in f:\n",
    "        line = line.strip().split('\\n')\n",
    "        #counter = counter.append(line[0])\n",
    "        w2 = [char for char in line[0]]\n",
    "        w_rost = w\n",
    "        #print(w2)\n",
    "        l = set(w).intersection(w2)\n",
    "        if len(l) == len(w2):\n",
    "            count+=1\n",
    "            print(line[0])   \n"
   ]
  },
  {
   "cell_type": "code",
   "execution_count": 26,
   "id": "6fd2abb5",
   "metadata": {},
   "outputs": [
    {
     "name": "stdout",
     "output_type": "stream",
     "text": [
      "67\n"
     ]
    }
   ],
   "source": [
    "print(count)  "
   ]
  }
 ],
 "metadata": {
  "kernelspec": {
   "display_name": "Python 3 (ipykernel)",
   "language": "python",
   "name": "python3"
  },
  "language_info": {
   "codemirror_mode": {
    "name": "ipython",
    "version": 3
   },
   "file_extension": ".py",
   "mimetype": "text/x-python",
   "name": "python",
   "nbconvert_exporter": "python",
   "pygments_lexer": "ipython3",
   "version": "3.9.13"
  }
 },
 "nbformat": 4,
 "nbformat_minor": 5
}
