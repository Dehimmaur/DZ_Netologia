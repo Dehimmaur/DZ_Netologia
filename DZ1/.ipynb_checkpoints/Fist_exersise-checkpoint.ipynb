{
 "cells": [
  {
   "cell_type": "code",
   "execution_count": 19,
   "id": "feb1e7b9",
   "metadata": {},
   "outputs": [
    {
     "name": "stdout",
     "output_type": "stream",
     "text": [
      "Object `strip()` not found.\n"
     ]
    }
   ],
   "source": [
    "?strip()"
   ]
  },
  {
   "cell_type": "code",
   "execution_count": 48,
   "id": "d361350b",
   "metadata": {},
   "outputs": [],
   "source": [
    "import re\n",
    "counter = []\n",
    "\n",
    "with open('URLs.txt', 'r') as f:\n",
    "        \n",
    "    for line in f:\n",
    "        line = line.strip().split('/')\n",
    "        if len(line)>2:\n",
    "            counter.append(line[1])\n",
    "          \n",
    "    #c = []\n",
    "    #from collections import Counter\n",
    "    #    c = Counter(counter)\n",
    "\n",
    "#print(c)      \n",
    "\n",
    "\n",
    "\n",
    "            \n",
    "    \n",
    "\n",
    "            \n",
    "            \n",
    "        '''\n",
    "            for elem in counter:\n",
    "                counter[elem] = counter.get(elem, 0) + 1\n",
    "\n",
    "            doubles = {element: count for element, count in counter.items() if count > 1}\n",
    "\n",
    "            print(doubles)\n",
    "        '''     \n",
    "        '''\n",
    "        \n",
    "        try:\n",
    "            #print (len(line))\n",
    "        # если текст строки удовлетворяем регулярному выражению pattern, то выводим строку\n",
    "        # if prog.match( line ):\n",
    "        # print( line )\n",
    "        # if len(line) > 20:\n",
    "        #    print( line )\n",
    "               \n",
    "               \n",
    "        except Exception as e:\n",
    "            print( 'Внезапная ошибка на строке P{. Вот что известно:'.format( lineNumber ) )\n",
    "            print( e )        \n",
    "        '''"
   ]
  },
  {
   "cell_type": "code",
   "execution_count": 50,
   "id": "dfee243f",
   "metadata": {},
   "outputs": [
    {
     "name": "stdout",
     "output_type": "stream",
     "text": [
      "['starlife', 'world', 'latest', 'incidents', 'politics', 'business', 'moscow_city', 'head', 'politics', 'world', 'science', 'video', 'world', 'science', 'sport', 'middleeast', 'economics', 'politics', 'travel', 'politics', 'video', 'starlife', 'health', 'science', 'cis', 'incidents', 'politics', 'world', 'politics', 'world', 'politics', 'middleeast', 'sport', 'crazy-world', 'crazy-world', 'incidents', 'video', 'auto', 'health', 'scitech', 'business', 'video', 'lifestyle', 'head', 'latest', 'head', 'cis', 'video', 'video', 'incidents', 'video', 'business', 'articles', 'science', 'world', 'science', 'politics', 'cis', 'starlife', 'finances', 'starlife', 'starlife', 'starlife', 'politics', 'articles', 'articles', 'starlife', 'starlife', 'business', 'world', 'starlife', 'europe', 'middleeast', 'video', 'articles', 'business', 'politics', 'kinomusic', 'starlife', 'lifestyle', 'articles', 'politics', 'economics', 'incidents', 'starlife', 'sport', 'articles', 'video', 'world', 'articles', 'starlife', 'economics', 'starlife', 'cis', 'video', 'science', 'incidents', 'world']\n"
     ]
    }
   ],
   "source": [
    "print(counter)"
   ]
  },
  {
   "cell_type": "code",
   "execution_count": 51,
   "id": "54849bb5",
   "metadata": {},
   "outputs": [],
   "source": [
    "import collections"
   ]
  },
  {
   "cell_type": "code",
   "execution_count": 56,
   "id": "82a5b387",
   "metadata": {},
   "outputs": [
    {
     "name": "stdout",
     "output_type": "stream",
     "text": [
      "Counter({'starlife': 13, 'politics': 11, 'video': 10, 'world': 9, 'articles': 7, 'incidents': 6, 'science': 6, 'business': 5, 'cis': 4, 'head': 3, 'sport': 3, 'middleeast': 3, 'economics': 3, 'latest': 2, 'health': 2, 'crazy-world': 2, 'lifestyle': 2, 'moscow_city': 1, 'travel': 1, 'auto': 1, 'scitech': 1, 'finances': 1, 'europe': 1, 'kinomusic': 1})\n"
     ]
    }
   ],
   "source": [
    "c = []\n",
    "#from collections import Counter\n",
    "c = Counter(counter)\n",
    "print(c)"
   ]
  },
  {
   "cell_type": "code",
   "execution_count": null,
   "id": "27516f3b",
   "metadata": {},
   "outputs": [],
   "source": []
  },
  {
   "cell_type": "code",
   "execution_count": null,
   "id": "3c7c402b",
   "metadata": {},
   "outputs": [],
   "source": []
  },
  {
   "cell_type": "code",
   "execution_count": null,
   "id": "f931d207",
   "metadata": {},
   "outputs": [],
   "source": []
  }
 ],
 "metadata": {
  "kernelspec": {
   "display_name": "Python 3 (ipykernel)",
   "language": "python",
   "name": "python3"
  },
  "language_info": {
   "codemirror_mode": {
    "name": "ipython",
    "version": 3
   },
   "file_extension": ".py",
   "mimetype": "text/x-python",
   "name": "python",
   "nbconvert_exporter": "python",
   "pygments_lexer": "ipython3",
   "version": "3.9.13"
  }
 },
 "nbformat": 4,
 "nbformat_minor": 5
}
